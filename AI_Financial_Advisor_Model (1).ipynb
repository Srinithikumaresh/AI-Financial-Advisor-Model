{
  "nbformat": 4,
  "nbformat_minor": 0,
  "metadata": {
    "colab": {
      "provenance": []
    },
    "kernelspec": {
      "name": "python3",
      "display_name": "Python 3"
    },
    "language_info": {
      "name": "python"
    }
  },
  "cells": [
    {
      "cell_type": "markdown",
      "source": [
        "Import Libraries"
      ],
      "metadata": {
        "id": "v_frpCr4XNcb"
      }
    },
    {
      "cell_type": "code",
      "execution_count": null,
      "metadata": {
        "id": "LiPWgt79XLqb"
      },
      "outputs": [],
      "source": [
        "import pandas as pd\n",
        "import numpy as np\n",
        "from sklearn.model_selection import train_test_split\n",
        "from sklearn.preprocessing import LabelEncoder, StandardScaler\n",
        "from xgboost import XGBClassifier\n",
        "from sklearn.metrics import accuracy_score, classification_report\n"
      ]
    },
    {
      "cell_type": "code",
      "source": [
        "!pip install --upgrade xgboost scikit-learn\n"
      ],
      "metadata": {
        "colab": {
          "base_uri": "https://localhost:8080/"
        },
        "id": "kayVVi7fZKIZ",
        "outputId": "9b10662f-1039-4256-8f3d-0c1d0776c032"
      },
      "execution_count": null,
      "outputs": [
        {
          "output_type": "stream",
          "name": "stdout",
          "text": [
            "Requirement already satisfied: xgboost in /usr/local/lib/python3.10/dist-packages (2.1.3)\n",
            "Requirement already satisfied: scikit-learn in /usr/local/lib/python3.10/dist-packages (1.6.0)\n",
            "Requirement already satisfied: numpy in /usr/local/lib/python3.10/dist-packages (from xgboost) (1.26.4)\n",
            "Requirement already satisfied: nvidia-nccl-cu12 in /usr/local/lib/python3.10/dist-packages (from xgboost) (2.23.4)\n",
            "Requirement already satisfied: scipy in /usr/local/lib/python3.10/dist-packages (from xgboost) (1.13.1)\n",
            "Requirement already satisfied: joblib>=1.2.0 in /usr/local/lib/python3.10/dist-packages (from scikit-learn) (1.4.2)\n",
            "Requirement already satisfied: threadpoolctl>=3.1.0 in /usr/local/lib/python3.10/dist-packages (from scikit-learn) (3.5.0)\n"
          ]
        }
      ]
    },
    {
      "cell_type": "markdown",
      "source": [
        "Importing Dataset"
      ],
      "metadata": {
        "id": "4K3z1SOlXUHl"
      }
    },
    {
      "cell_type": "code",
      "source": [
        "\n",
        "np.random.seed(42)\n",
        "\n",
        "n_samples = 2000\n",
        "education = np.random.choice(['None', 'Primary', 'Secondary', 'Higher'], n_samples, p=[0.1, 0.3, 0.4, 0.2])\n",
        "income = np.random.choice(['Low', 'Medium', 'High'], n_samples, p=[0.5, 0.3, 0.2])\n",
        "goal = np.random.choice(['Savings', 'Investment', 'Loan'], n_samples, p=[0.4, 0.3, 0.3])\n",
        "literacy = np.random.choice(['Beginner', 'Intermediate', 'Advanced'], n_samples, p=[0.5, 0.3, 0.2])\n",
        "\n",
        "target = []\n",
        "for edu, inc, lit in zip(education, income, literacy):\n",
        "    if edu == 'Higher' and inc == 'High' and lit == 'Advanced' and np.random.rand() > 0.2:\n",
        "        target.append('Apply for Loan')\n",
        "    elif edu in ['Secondary', 'Higher'] and inc in ['Medium', 'High'] and np.random.rand() > 0.3:\n",
        "        target.append('Start Budgeting')\n",
        "    else:\n",
        "        target.append('Enroll in Course')\n",
        "\n",
        "data = pd.DataFrame({\n",
        "    'Education_Level': education,\n",
        "    'Income_Level': income,\n",
        "    'Financial_Goal': goal,\n",
        "    'Literacy_Level': literacy,\n",
        "    'Target_Action': target\n",
        "})\n"
      ],
      "metadata": {
        "id": "GQMT4x0IXdnv"
      },
      "execution_count": null,
      "outputs": []
    },
    {
      "cell_type": "markdown",
      "source": [
        " Encode Categorical Variables"
      ],
      "metadata": {
        "id": "wAwbJWZnXkj-"
      }
    },
    {
      "cell_type": "code",
      "source": [
        "\n",
        "label_encoders = {}\n",
        "for column in ['Education_Level', 'Income_Level', 'Financial_Goal', 'Literacy_Level', 'Target_Action']:\n",
        "    le = LabelEncoder()\n",
        "    data[column] = le.fit_transform(data[column])\n",
        "    label_encoders[column] = le\n"
      ],
      "metadata": {
        "id": "41UR1qO9Xo3z"
      },
      "execution_count": null,
      "outputs": []
    },
    {
      "cell_type": "markdown",
      "source": [
        "Split Data and Scale Features"
      ],
      "metadata": {
        "id": "YC_5ILZiXtQX"
      }
    },
    {
      "cell_type": "code",
      "source": [
        "\n",
        "X = data.drop('Target_Action', axis=1)\n",
        "y = data['Target_Action']\n",
        "\n",
        "\n",
        "scaler = StandardScaler()\n",
        "X_scaled = scaler.fit_transform(X)\n",
        "\n",
        "\n",
        "X_train, X_test, y_train, y_test = train_test_split(X_scaled, y, test_size=0.2, random_state=42)\n"
      ],
      "metadata": {
        "id": "vURZzd-4Xs5P"
      },
      "execution_count": null,
      "outputs": []
    },
    {
      "cell_type": "markdown",
      "source": [
        "Evaluate the Model"
      ],
      "metadata": {
        "id": "65TNsKR_X2tt"
      }
    },
    {
      "cell_type": "code",
      "source": [
        "\n",
        "y_pred = model.predict(X_test)\n",
        "\n",
        "accuracy = accuracy_score(y_test, y_pred)\n",
        "print(f\"Accuracy: {accuracy * 100:.2f}%\")\n",
        "print(\"Classification Report:\\n\", classification_report(y_test, y_pred))\n"
      ],
      "metadata": {
        "colab": {
          "base_uri": "https://localhost:8080/"
        },
        "id": "pnevi3L9Zmz3",
        "outputId": "0eb3eda0-a975-4489-d33b-3a1f1b2c6caa"
      },
      "execution_count": null,
      "outputs": [
        {
          "output_type": "stream",
          "name": "stdout",
          "text": [
            "Accuracy: 91.00%\n",
            "Classification Report:\n",
            "               precision    recall  f1-score   support\n",
            "\n",
            "           0       1.00      1.00      1.00         5\n",
            "           1       0.99      0.89      0.94       298\n",
            "           2       0.74      0.98      0.84        97\n",
            "\n",
            "    accuracy                           0.91       400\n",
            "   macro avg       0.91      0.96      0.93       400\n",
            "weighted avg       0.93      0.91      0.91       400\n",
            "\n"
          ]
        }
      ]
    },
    {
      "cell_type": "markdown",
      "source": [
        "Predict for a New User"
      ],
      "metadata": {
        "id": "LcpIQwH9Zy63"
      }
    },
    {
      "cell_type": "code",
      "source": [
        "\n",
        "new_user = {\n",
        "    'Education_Level': ['Higher'],\n",
        "    'Income_Level': ['High'],\n",
        "    'Financial_Goal': ['Investment'],\n",
        "    'Literacy_Level': ['Advanced']\n",
        "}\n",
        "\n",
        "new_user_df = pd.DataFrame(new_user)\n",
        "\n",
        "for column in ['Education_Level', 'Income_Level', 'Financial_Goal', 'Literacy_Level']:\n",
        "    new_user_df[column] = label_encoders[column].transform(new_user_df[column])\n",
        "\n",
        "\n",
        "new_user_scaled = scaler.transform(new_user_df)\n",
        "\n",
        "prediction = model.predict(new_user_scaled)\n",
        "predicted_action = label_encoders['Target_Action'].inverse_transform(prediction)\n",
        "\n",
        "print(f\"Recommended Action for the User: {predicted_action[0]}\")\n"
      ],
      "metadata": {
        "colab": {
          "base_uri": "https://localhost:8080/"
        },
        "id": "nCDFeYKyZqIY",
        "outputId": "7b5fa3e4-815f-47fd-ffb7-ae47e914dd1f"
      },
      "execution_count": null,
      "outputs": [
        {
          "output_type": "stream",
          "name": "stdout",
          "text": [
            "Recommended Action for the User: Apply for Loan\n"
          ]
        }
      ]
    },
    {
      "cell_type": "markdown",
      "source": [
        "Predicting the New User"
      ],
      "metadata": {
        "id": "2XYYRE-qaP-v"
      }
    },
    {
      "cell_type": "code",
      "source": [
        "new_user_2 = {\n",
        "    'Education_Level': ['Secondary'],\n",
        "    'Income_Level': ['Medium'],\n",
        "    'Financial_Goal': ['Loan'],\n",
        "    'Literacy_Level': ['Intermediate']\n",
        "}\n",
        "\n",
        "new_user_2_df = pd.DataFrame(new_user_2)\n",
        "\n",
        "for column in ['Education_Level', 'Income_Level', 'Financial_Goal', 'Literacy_Level']:\n",
        "    new_user_2_df[column] = label_encoders[column].transform(new_user_2_df[column])\n",
        "\n",
        "new_user_2_scaled = scaler.transform(new_user_2_df)\n",
        "\n",
        "prediction_2 = model.predict(new_user_2_scaled)\n",
        "\n",
        "predicted_action_2 = label_encoders['Target_Action'].inverse_transform(prediction_2)\n",
        "\n",
        "print(f\"Recommended Action for the New User 2: {predicted_action_2[0]}\")\n"
      ],
      "metadata": {
        "colab": {
          "base_uri": "https://localhost:8080/"
        },
        "id": "WGQtKmJdaNgX",
        "outputId": "a341c62f-f07f-40cd-9a7c-3009eafc314c"
      },
      "execution_count": null,
      "outputs": [
        {
          "output_type": "stream",
          "name": "stdout",
          "text": [
            "Recommended Action for the New User 2: Start Budgeting\n"
          ]
        }
      ]
    }
  ]
}